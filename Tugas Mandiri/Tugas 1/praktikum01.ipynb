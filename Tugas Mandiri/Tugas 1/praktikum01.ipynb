{
 "cells": [
  {
   "cell_type": "code",
   "execution_count": 15,
   "id": "83aaec97-7961-4f92-9dd1-c89e3a5520de",
   "metadata": {},
   "outputs": [
    {
     "name": "stdout",
     "output_type": "stream",
     "text": [
      "   instant      dteday  season      temp       hum  windspeed\n",
      "0        1  2011-01-01       1  0.344167  0.805833   0.160446\n",
      "1        2  2011-01-02       1  0.363478  0.696087   0.248539\n",
      "2        3  2011-01-03       1  0.196364  0.437273   0.248309\n",
      "3        4  2011-01-04       1  0.200000  0.590435   0.160296\n",
      "4        5  2011-01-05       1  0.226957  0.436957   0.186900\n"
     ]
    }
   ],
   "source": [
    "import pandas as pd\n",
    "\n",
    "df1 = pd.read_csv('../data/day.csv', sep=',')\n",
    "\n",
    "print(df1[['instant', 'dteday', 'season', 'temp', 'hum', 'windspeed']].head())\n",
    "\n",
    "df1.to_csv('../data/latihan01.csv', index=False)"
   ]
  },
  {
   "cell_type": "code",
   "execution_count": null,
   "id": "5df84ac7-43bf-4e18-b41c-ec454b376704",
   "metadata": {},
   "outputs": [],
   "source": []
  }
 ],
 "metadata": {
  "kernelspec": {
   "display_name": "Python 3 (ipykernel)",
   "language": "python",
   "name": "python3"
  },
  "language_info": {
   "codemirror_mode": {
    "name": "ipython",
    "version": 3
   },
   "file_extension": ".py",
   "mimetype": "text/x-python",
   "name": "python",
   "nbconvert_exporter": "python",
   "pygments_lexer": "ipython3",
   "version": "3.13.1"
  }
 },
 "nbformat": 4,
 "nbformat_minor": 5
}
